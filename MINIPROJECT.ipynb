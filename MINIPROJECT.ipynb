{
  "nbformat": 4,
  "nbformat_minor": 0,
  "metadata": {
    "colab": {
      "name": "MINIPROJECT.ipynb",
      "provenance": [],
      "collapsed_sections": []
    },
    "kernelspec": {
      "name": "python3",
      "display_name": "Python 3"
    }
  },
  "cells": [
    {
      "cell_type": "code",
      "metadata": {
        "id": "Pl0mGBRRo1Yp",
        "colab_type": "code",
        "colab": {
          "base_uri": "https://localhost:8080/",
          "height": 102
        },
        "outputId": "ab52412d-26d1-4122-8160-ac38e19e0906"
      },
      "source": [
        "!pip install bing-image-downloader"
      ],
      "execution_count": null,
      "outputs": [
        {
          "output_type": "stream",
          "text": [
            "Collecting bing-image-downloader\n",
            "  Downloading https://files.pythonhosted.org/packages/0d/bf/537a61030b84ae4cd5022d5c7b014fd9bc3ce7c02358919153a6658a61d3/bing_image_downloader-1.0.4-py3-none-any.whl\n",
            "Installing collected packages: bing-image-downloader\n",
            "Successfully installed bing-image-downloader-1.0.4\n"
          ],
          "name": "stdout"
        }
      ]
    },
    {
      "cell_type": "code",
      "metadata": {
        "id": "CIcKo6rKpnqf",
        "colab_type": "code",
        "colab": {
          "base_uri": "https://localhost:8080/",
          "height": 33
        },
        "outputId": "c1de45f4-151e-4911-9227-5e6dd3d4ac57"
      },
      "source": [
        "cd '/content/drive/My Drive/MINIPROJECT'"
      ],
      "execution_count": null,
      "outputs": [
        {
          "output_type": "stream",
          "text": [
            "/content/drive/My Drive/MINIPROJECT\n"
          ],
          "name": "stdout"
        }
      ]
    },
    {
      "cell_type": "code",
      "metadata": {
        "id": "OKU23nT0pn0f",
        "colab_type": "code",
        "colab": {}
      },
      "source": [
        "!ls\n"
      ],
      "execution_count": null,
      "outputs": []
    },
    {
      "cell_type": "code",
      "metadata": {
        "id": "u_ijqpykpn8J",
        "colab_type": "code",
        "colab": {}
      },
      "source": [
        "!mkdir images"
      ],
      "execution_count": null,
      "outputs": []
    },
    {
      "cell_type": "code",
      "metadata": {
        "id": "yTgqwq1Spn6t",
        "colab_type": "code",
        "colab": {
          "base_uri": "https://localhost:8080/",
          "height": 34
        },
        "outputId": "99f79521-e9c6-4c21-f23e-15c257f7e690"
      },
      "source": [
        "cd images"
      ],
      "execution_count": null,
      "outputs": [
        {
          "output_type": "stream",
          "text": [
            "/content/drive/My Drive/MINIPROJECT/images\n"
          ],
          "name": "stdout"
        }
      ]
    },
    {
      "cell_type": "code",
      "metadata": {
        "id": "6qxBJUp9pnzP",
        "colab_type": "code",
        "colab": {
          "base_uri": "https://localhost:8080/",
          "height": 1000
        },
        "outputId": "251fa8bb-9b4f-4d06-e6dc-5cc435ecf355"
      },
      "source": [
        "from bing_image_downloader import downloader\n",
        "downloader.download(\"cat\",limit = 20, output_dir = 'images')"
      ],
      "execution_count": null,
      "outputs": [
        {
          "output_type": "stream",
          "text": [
            "\n",
            "\n",
            "[!!]Indexing page: 1\n",
            "\n",
            "[%] Indexed 20 Images on Page 1.\n",
            "\n",
            "===============================================\n",
            "\n",
            "[%] Downloading Image #1 from https://i.ytimg.com/vi/ZakV2xtqqMM/maxresdefault.jpg\n",
            "[%] File Downloaded !\n",
            "\n",
            "[%] Downloading Image #2 from https://upload.wikimedia.org/wikipedia/commons/thumb/0/0c/Male_Chocolate_Burmese_Cat.jpg/1200px-Male_Chocolate_Burmese_Cat.jpg\n",
            "[Error]Invalid image, not saving https://upload.wikimedia.org/wikipedia/commons/thumb/0/0c/Male_Chocolate_Burmese_Cat.jpg/1200px-Male_Chocolate_Burmese_Cat.jpg\n",
            "\n",
            "[!] Issue getting: https://upload.wikimedia.org/wikipedia/commons/thumb/0/0c/Male_Chocolate_Burmese_Cat.jpg/1200px-Male_Chocolate_Burmese_Cat.jpg\n",
            "[!] Error:: No active exception to reraise\n",
            "[%] Downloading Image #2 from https://upload.wikimedia.org/wikipedia/commons/d/dc/Grumpy_Cat_%2814556024763%29_%28cropped%29.jpg\n",
            "[%] File Downloaded !\n",
            "\n",
            "[%] Downloading Image #3 from https://i.ytimg.com/vi/LCwR7sP05To/maxresdefault.jpg\n",
            "[%] File Downloaded !\n",
            "\n",
            "[%] Downloading Image #4 from http://3.bp.blogspot.com/-B9nxxjqeATo/UO2S_s1e5ZI/AAAAAAAAdwQ/R-WAvvjYdpg/s1600/funny-cat-pictures-032-022.jpg\n",
            "[%] File Downloaded !\n",
            "\n",
            "[%] Downloading Image #5 from https://i.ytimg.com/vi/4YMwNqaqufc/maxresdefault.jpg\n",
            "[%] File Downloaded !\n",
            "\n",
            "[%] Downloading Image #6 from https://i.ytimg.com/vi/Q5AncCWcnnA/maxresdefault.jpg\n",
            "[%] File Downloaded !\n",
            "\n",
            "[%] Downloading Image #7 from https://upload.wikimedia.org/wikipedia/commons/thumb/2/23/Close_up_of_a_black_domestic_cat.jpg/1200px-Close_up_of_a_black_domestic_cat.jpg\n",
            "[Error]Invalid image, not saving https://upload.wikimedia.org/wikipedia/commons/thumb/2/23/Close_up_of_a_black_domestic_cat.jpg/1200px-Close_up_of_a_black_domestic_cat.jpg\n",
            "\n",
            "[!] Issue getting: https://upload.wikimedia.org/wikipedia/commons/thumb/2/23/Close_up_of_a_black_domestic_cat.jpg/1200px-Close_up_of_a_black_domestic_cat.jpg\n",
            "[!] Error:: No active exception to reraise\n",
            "[%] Downloading Image #7 from https://i.ytimg.com/vi/3EIbWjkimAs/maxresdefault.jpg\n",
            "[%] File Downloaded !\n",
            "\n",
            "[%] Downloading Image #8 from https://i.ytimg.com/vi/du2begoIXNc/maxresdefault.jpg\n",
            "[%] File Downloaded !\n",
            "\n",
            "[%] Downloading Image #9 from https://media.npr.org/assets/img/2013/01/29/cat-bird_wide-85ce4b8383b9440d3ff03413cdd913513e9737bf.jpg?s=1400\n",
            "[%] File Downloaded !\n",
            "\n",
            "[%] Downloading Image #10 from https://upload.wikimedia.org/wikipedia/commons/e/e9/Breakfast_for_kitty.JPG\n",
            "[%] File Downloaded !\n",
            "\n",
            "[%] Downloading Image #11 from https://i.ytimg.com/vi/VJkOEQmVE_o/maxresdefault.jpg\n",
            "[%] File Downloaded !\n",
            "\n",
            "[%] Downloading Image #12 from http://2.bp.blogspot.com/-6CagU-Snlkk/UdRB-qVoYJI/AAAAAAAAlpY/ASB62XV3KwI/s1600/funny-cat-pictures-057-019.jpg\n",
            "[%] File Downloaded !\n",
            "\n",
            "[%] Downloading Image #13 from https://i.ytimg.com/vi/H5t0orjZSFg/maxresdefault.jpg\n",
            "[%] File Downloaded !\n",
            "\n",
            "[%] Downloading Image #14 from https://i.ytimg.com/vi/9akSG3RnA1s/maxresdefault.jpg\n",
            "[%] File Downloaded !\n",
            "\n",
            "[%] Downloading Image #15 from https://i.ytimg.com/vi/OAUtiqYDhEc/maxresdefault.jpg\n",
            "[%] File Downloaded !\n",
            "\n",
            "[%] Downloading Image #16 from https://upload.wikimedia.org/wikipedia/commons/thumb/2/2b/Khaomanee_cat.jpg/1200px-Khaomanee_cat.jpg\n",
            "[Error]Invalid image, not saving https://upload.wikimedia.org/wikipedia/commons/thumb/2/2b/Khaomanee_cat.jpg/1200px-Khaomanee_cat.jpg\n",
            "\n",
            "[!] Issue getting: https://upload.wikimedia.org/wikipedia/commons/thumb/2/2b/Khaomanee_cat.jpg/1200px-Khaomanee_cat.jpg\n",
            "[!] Error:: No active exception to reraise\n",
            "[%] Downloading Image #16 from https://i.ytimg.com/vi/Q4Vjadpyehw/maxresdefault.jpg\n",
            "[%] File Downloaded !\n",
            "\n",
            "[%] Downloading Image #17 from http://i.ytimg.com/vi/RdEXe7sYHyg/maxresdefault.jpg\n",
            "[%] File Downloaded !\n",
            "\n",
            "\n",
            "\n",
            "[!!]Indexing page: 2\n",
            "\n",
            "[%] Indexed 35 Images on Page 2.\n",
            "\n",
            "===============================================\n",
            "\n",
            "[%] Downloading Image #18 from https://i.ytimg.com/vi/ZakV2xtqqMM/maxresdefault.jpg\n",
            "[%] File Downloaded !\n",
            "\n",
            "[%] Downloading Image #19 from https://upload.wikimedia.org/wikipedia/commons/thumb/0/0c/Male_Chocolate_Burmese_Cat.jpg/1200px-Male_Chocolate_Burmese_Cat.jpg\n",
            "[Error]Invalid image, not saving https://upload.wikimedia.org/wikipedia/commons/thumb/0/0c/Male_Chocolate_Burmese_Cat.jpg/1200px-Male_Chocolate_Burmese_Cat.jpg\n",
            "\n",
            "[!] Issue getting: https://upload.wikimedia.org/wikipedia/commons/thumb/0/0c/Male_Chocolate_Burmese_Cat.jpg/1200px-Male_Chocolate_Burmese_Cat.jpg\n",
            "[!] Error:: No active exception to reraise\n",
            "[%] Downloading Image #19 from https://i.ytimg.com/vi/LCwR7sP05To/maxresdefault.jpg\n",
            "[%] File Downloaded !\n",
            "\n",
            "[%] Downloading Image #20 from http://3.bp.blogspot.com/-B9nxxjqeATo/UO2S_s1e5ZI/AAAAAAAAdwQ/R-WAvvjYdpg/s1600/funny-cat-pictures-032-022.jpg\n",
            "[%] File Downloaded !\n",
            "\n",
            "\n",
            "\n",
            "[%] Done. Downloaded 20 images.\n",
            "\n",
            "===============================================\n",
            "\n"
          ],
          "name": "stdout"
        }
      ]
    },
    {
      "cell_type": "code",
      "metadata": {
        "id": "ICDUwIvlqeOo",
        "colab_type": "code",
        "colab": {
          "base_uri": "https://localhost:8080/",
          "height": 1000
        },
        "outputId": "a7897ca4-3345-4ce8-d8ae-b7fcff7b70f4"
      },
      "source": [
        "downloader.download(\"dog\",limit = 20, output_dir = 'images')"
      ],
      "execution_count": null,
      "outputs": [
        {
          "output_type": "stream",
          "text": [
            "\n",
            "\n",
            "[!!]Indexing page: 1\n",
            "\n",
            "[%] Indexed 20 Images on Page 1.\n",
            "\n",
            "===============================================\n",
            "\n",
            "[%] Downloading Image #1 from https://upload.wikimedia.org/wikipedia/commons/3/34/Jumping_dog_Ryder.jpg\n",
            "[%] File Downloaded !\n",
            "\n",
            "[%] Downloading Image #2 from https://upload.wikimedia.org/wikipedia/commons/b/b4/Dealer_the_Labrador_Retriever_and_a_redhead_duck.jpg\n",
            "[%] File Downloaded !\n",
            "\n",
            "[%] Downloading Image #3 from https://upload.wikimedia.org/wikipedia/commons/thumb/f/ff/Pastor_vasco_m_14months_loby_3018.jpg/1200px-Pastor_vasco_m_14months_loby_3018.jpg\n",
            "[%] File Downloaded !\n",
            "\n",
            "[%] Downloading Image #4 from https://upload.wikimedia.org/wikipedia/commons/0/09/Nova-zembla.jpg\n",
            "[%] File Downloaded !\n",
            "\n",
            "[%] Downloading Image #5 from https://i.ytimg.com/vi/vlfiKbrZgvg/hqdefault.jpg\n",
            "[%] File Downloaded !\n",
            "\n",
            "[%] Downloading Image #6 from https://upload.wikimedia.org/wikipedia/en/thumb/9/97/Chaser_the_BC%2C_snow_full_body.jpg/1200px-Chaser_the_BC%2C_snow_full_body.jpg\n",
            "[Error]Invalid image, not saving https://upload.wikimedia.org/wikipedia/en/thumb/9/97/Chaser_the_BC%2C_snow_full_body.jpg/1200px-Chaser_the_BC%2C_snow_full_body.jpg\n",
            "\n",
            "[!] Issue getting: https://upload.wikimedia.org/wikipedia/en/thumb/9/97/Chaser_the_BC%2C_snow_full_body.jpg/1200px-Chaser_the_BC%2C_snow_full_body.jpg\n",
            "[!] Error:: No active exception to reraise\n",
            "[%] Downloading Image #6 from https://upload.wikimedia.org/wikipedia/commons/thumb/b/b1/Goldador.jpg/1200px-Goldador.jpg\n",
            "[%] File Downloaded !\n",
            "\n",
            "[%] Downloading Image #7 from https://i.ytimg.com/vi/LnVqXoVwjN4/maxresdefault.jpg\n",
            "[%] File Downloaded !\n",
            "\n",
            "[%] Downloading Image #8 from https://i.ytimg.com/vi/KOI4JJFZlu0/hqdefault.jpg\n",
            "[%] File Downloaded !\n",
            "\n",
            "[%] Downloading Image #9 from https://i.ytimg.com/vi/-ogW-rUH298/maxresdefault.jpg\n",
            "[%] File Downloaded !\n",
            "\n",
            "[%] Downloading Image #10 from https://i.ytimg.com/vi/BDIZJiCBGV8/maxresdefault.jpg\n",
            "[%] File Downloaded !\n",
            "\n",
            "[%] Downloading Image #11 from https://i.ytimg.com/vi/eU6JoK0FHAA/hqdefault.jpg\n",
            "[%] File Downloaded !\n",
            "\n",
            "[%] Downloading Image #12 from https://i.ytimg.com/vi/h5TpJb_jE-M/maxresdefault.jpg\n",
            "[%] File Downloaded !\n",
            "\n",
            "[%] Downloading Image #13 from https://upload.wikimedia.org/wikipedia/commons/e/e0/Central_Asian_Shepherd_Puppy%2C_Dog.jpg\n",
            "[%] File Downloaded !\n",
            "\n",
            "[%] Downloading Image #14 from https://i.ytimg.com/vi/kZw-jgCRPeE/maxresdefault.jpg\n",
            "[%] File Downloaded !\n",
            "\n",
            "[%] Downloading Image #15 from https://i.ytimg.com/vi/v7u0VgtE3HE/maxresdefault.jpg\n",
            "[%] File Downloaded !\n",
            "\n",
            "[%] Downloading Image #16 from http://i1.ytimg.com/vi/rYb0F3p0rj0/maxresdefault.jpg\n",
            "[%] File Downloaded !\n",
            "\n",
            "[%] Downloading Image #17 from https://i.ytimg.com/vi/ymD9tB5xmmQ/hqdefault.jpg\n",
            "[%] File Downloaded !\n",
            "\n",
            "[%] Downloading Image #18 from https://i.ytimg.com/vi/qGiopO_pSQ4/maxresdefault.jpg\n",
            "[%] File Downloaded !\n",
            "\n",
            "[%] Downloading Image #19 from https://i.ytimg.com/vi/cYNlJYQI3Uw/maxresdefault.jpg\n",
            "[%] File Downloaded !\n",
            "\n",
            "\n",
            "\n",
            "[!!]Indexing page: 2\n",
            "\n",
            "[%] Indexed 35 Images on Page 2.\n",
            "\n",
            "===============================================\n",
            "\n",
            "[%] Downloading Image #20 from https://upload.wikimedia.org/wikipedia/commons/3/34/Jumping_dog_Ryder.jpg\n",
            "[%] File Downloaded !\n",
            "\n",
            "\n",
            "\n",
            "[%] Done. Downloaded 20 images.\n",
            "\n",
            "===============================================\n",
            "\n"
          ],
          "name": "stdout"
        }
      ]
    },
    {
      "cell_type": "code",
      "metadata": {
        "id": "y_02HJ6rqeYr",
        "colab_type": "code",
        "colab": {
          "base_uri": "https://localhost:8080/",
          "height": 256
        },
        "outputId": "0271184e-ea01-4cdf-8805-0bf279d60953"
      },
      "source": [
        "path = '/content/drive/My Drive/MINIPROJECT/images/images/cat/Image_1.jpg'\n",
        "import cv2\n",
        "import matplotlib.pyplot as plt\n",
        "\n",
        "i = cv2.imread(path)\n",
        "i = cv2.cvtColor(i,cv2.COLOR_BGR2RGB)\n",
        "plt.imshow(i)"
      ],
      "execution_count": null,
      "outputs": [
        {
          "output_type": "execute_result",
          "data": {
            "text/plain": [
              "<matplotlib.image.AxesImage at 0x7fdef592a160>"
            ]
          },
          "metadata": {
            "tags": []
          },
          "execution_count": 5
        },
        {
          "output_type": "display_data",
          "data": {
            "image/png": "[encoded data removed]",
            "text/plain": [
              "<Figure size 432x288 with 1 Axes>"
            ]
          },
          "metadata": {
            "tags": [],
            "needs_background": "light"
          }
        }
      ]
    },
    {
      "cell_type": "code",
      "metadata": {
        "id": "C-jYuRxzqee4",
        "colab_type": "code",
        "colab": {
          "base_uri": "https://localhost:8080/",
          "height": 342
        },
        "outputId": "97bef0b4-a98a-4867-b74b-3976fc1a95cf"
      },
      "source": [
        "\n",
        "import os\n",
        "import cv2\n",
        "path = '/content/drive/My Drive/MINIPROJECT/images/images/cat'\n",
        "for filename in os.listdir(path):\n",
        "  i = cv2.imread(os.path.join(path,filename))\n",
        "  print(i.shape)"
      ],
      "execution_count": null,
      "outputs": [
        {
          "output_type": "stream",
          "text": [
            "(720, 1280, 3)\n",
            "(1546, 1118, 3)\n",
            "(720, 1280, 3)\n",
            "(1067, 800, 3)\n",
            "(720, 1280, 3)\n",
            "(720, 1280, 3)\n",
            "(720, 1280, 3)\n",
            "(720, 1280, 3)\n",
            "(785, 1400, 3)\n",
            "(640, 480, 3)\n",
            "(720, 1280, 3)\n",
            "(853, 640, 3)\n",
            "(720, 1280, 3)\n",
            "(720, 1280, 3)\n",
            "(720, 1280, 3)\n",
            "(720, 1280, 3)\n",
            "(720, 1280, 3)\n",
            "(720, 1280, 3)\n",
            "(720, 1280, 3)\n",
            "(1067, 800, 3)\n"
          ],
          "name": "stdout"
        }
      ]
    },
    {
      "cell_type": "code",
      "metadata": {
        "id": "tBlLYI6vqemx",
        "colab_type": "code",
        "colab": {
          "base_uri": "https://localhost:8080/",
          "height": 342
        },
        "outputId": "4244771a-1c1e-4a8d-c597-6afea27d1f06"
      },
      "source": [
        "path = '/content/drive/My Drive/MINIPROJECT/images/images/dog'\n",
        "for filename in os.listdir(path):\n",
        "  i = cv2.imread(os.path.join(path,filename))\n",
        "  print(i.shape)"
      ],
      "execution_count": null,
      "outputs": [
        {
          "output_type": "stream",
          "text": [
            "(1200, 800, 3)\n",
            "(2048, 1536, 3)\n",
            "(1800, 1200, 3)\n",
            "(1280, 912, 3)\n",
            "(360, 480, 3)\n",
            "(1602, 1200, 3)\n",
            "(720, 1280, 3)\n",
            "(360, 480, 3)\n",
            "(720, 1280, 3)\n",
            "(720, 1280, 3)\n",
            "(360, 480, 3)\n",
            "(720, 1280, 3)\n",
            "(1600, 1200, 3)\n",
            "(720, 1280, 3)\n",
            "(720, 1280, 3)\n",
            "(720, 1280, 3)\n",
            "(360, 480, 3)\n",
            "(720, 1280, 3)\n",
            "(720, 1280, 3)\n",
            "(1200, 800, 3)\n"
          ],
          "name": "stdout"
        }
      ]
    },
    {
      "cell_type": "code",
      "metadata": {
        "id": "3VdXaIUDqerb",
        "colab_type": "code",
        "colab": {}
      },
      "source": [
        "import os\n",
        "from skimage.io import imread\n",
        "from skimage.transform import resize"
      ],
      "execution_count": null,
      "outputs": []
    },
    {
      "cell_type": "code",
      "metadata": {
        "id": "cPbvaCLtqelK",
        "colab_type": "code",
        "colab": {
          "base_uri": "https://localhost:8080/",
          "height": 66
        },
        "outputId": "88ad0a9e-a6c7-49df-dc9f-bfdb2d89c8f0"
      },
      "source": [
        "import numpy as np\n",
        "target = []   \n",
        "flat_data = []  \n",
        "images= []\n",
        "path = '/content/drive/My Drive/MINIPROJECT/images/images'\n",
        "for dirpath,dirnames,filenames in os.walk(path):\n",
        "  for filename in filenames:\n",
        "    category = dirpath.split('/')[-1]\n",
        "    target.append(category)\n",
        "    img = imread(f'{path}/{category}/{filename}')\n",
        "    img_resized = resize(img,(100,100,3))  \n",
        "    flat_data.append(img_resized.flatten())\n",
        "    images.append(img_resized)\n",
        "\n",
        "flat_data = np.array(flat_data)\n",
        "target = np.array(target)\n",
        "images = np.array(images)\n",
        "\n",
        "print(flat_data.shape)\n",
        "print(target.shape)\n",
        "print(images.shape)"
      ],
      "execution_count": null,
      "outputs": [
        {
          "output_type": "stream",
          "text": [
            "(40, 30000)\n",
            "(40,)\n",
            "(40, 100, 100, 3)\n"
          ],
          "name": "stdout"
        }
      ]
    },
    {
      "cell_type": "code",
      "metadata": {
        "id": "8dw8i6feqeXI",
        "colab_type": "code",
        "colab": {}
      },
      "source": [
        "import pandas as pd\n",
        "df = pd.DataFrame(flat_data)\n",
        "df['Target'] = target"
      ],
      "execution_count": null,
      "outputs": []
    },
    {
      "cell_type": "code",
      "metadata": {
        "id": "IPlkEbNVwIn9",
        "colab_type": "code",
        "colab": {
          "base_uri": "https://localhost:8080/",
          "height": 238
        },
        "outputId": "490dd790-0849-4d3b-ba3e-e01af9972861"
      },
      "source": [
        "df.head()"
      ],
      "execution_count": null,
      "outputs": [
        {
          "output_type": "execute_result",
          "data": {
            "text/html": [
              "<div>\n",
              "<style scoped>\n",
              "    .dataframe tbody tr th:only-of-type {\n",
              "        vertical-align: middle;\n",
              "    }\n",
              "\n",
              "    .dataframe tbody tr th {\n",
              "        vertical-align: top;\n",
              "    }\n",
              "\n",
              "    .dataframe thead th {\n",
              "        text-align: right;\n",
              "    }\n",
              "</style>\n",
              "<table border=\"1\" class=\"dataframe\">\n",
              "  <thead>\n",
              "    <tr style=\"text-align: right;\">\n",
              "      <th></th>\n",
              "      <th>0</th>\n",
              "      <th>1</th>\n",
              "      <th>2</th>\n",
              "      <th>3</th>\n",
              "      <th>4</th>\n",
              "      <th>5</th>\n",
              "      <th>6</th>\n",
              "      <th>7</th>\n",
              "      <th>8</th>\n",
              "      <th>9</th>\n",
              "      <th>10</th>\n",
              "      <th>11</th>\n",
              "      <th>12</th>\n",
              "      <th>13</th>\n",
              "      <th>14</th>\n",
              "      <th>15</th>\n",
              "      <th>16</th>\n",
              "      <th>17</th>\n",
              "      <th>18</th>\n",
              "      <th>19</th>\n",
              "      <th>20</th>\n",
              "      <th>21</th>\n",
              "      <th>22</th>\n",
              "      <th>23</th>\n",
              "      <th>24</th>\n",
              "      <th>25</th>\n",
              "      <th>26</th>\n",
              "      <th>27</th>\n",
              "      <th>28</th>\n",
              "      <th>29</th>\n",
              "      <th>30</th>\n",
              "      <th>31</th>\n",
              "      <th>32</th>\n",
              "      <th>33</th>\n",
              "      <th>34</th>\n",
              "      <th>35</th>\n",
              "      <th>36</th>\n",
              "      <th>37</th>\n",
              "      <th>38</th>\n",
              "      <th>39</th>\n",
              "      <th>...</th>\n",
              "      <th>29961</th>\n",
              "      <th>29962</th>\n",
              "      <th>29963</th>\n",
              "      <th>29964</th>\n",
              "      <th>29965</th>\n",
              "      <th>29966</th>\n",
              "      <th>29967</th>\n",
              "      <th>29968</th>\n",
              "      <th>29969</th>\n",
              "      <th>29970</th>\n",
              "      <th>29971</th>\n",
              "      <th>29972</th>\n",
              "      <th>29973</th>\n",
              "      <th>29974</th>\n",
              "      <th>29975</th>\n",
              "      <th>29976</th>\n",
              "      <th>29977</th>\n",
              "      <th>29978</th>\n",
              "      <th>29979</th>\n",
              "      <th>29980</th>\n",
              "      <th>29981</th>\n",
              "      <th>29982</th>\n",
              "      <th>29983</th>\n",
              "      <th>29984</th>\n",
              "      <th>29985</th>\n",
              "      <th>29986</th>\n",
              "      <th>29987</th>\n",
              "      <th>29988</th>\n",
              "      <th>29989</th>\n",
              "      <th>29990</th>\n",
              "      <th>29991</th>\n",
              "      <th>29992</th>\n",
              "      <th>29993</th>\n",
              "      <th>29994</th>\n",
              "      <th>29995</th>\n",
              "      <th>29996</th>\n",
              "      <th>29997</th>\n",
              "      <th>29998</th>\n",
              "      <th>29999</th>\n",
              "      <th>Target</th>\n",
              "    </tr>\n",
              "  </thead>\n",
              "  <tbody>\n",
              "    <tr>\n",
              "      <th>0</th>\n",
              "      <td>0.000000</td>\n",
              "      <td>0.000000</td>\n",
              "      <td>0.000000</td>\n",
              "      <td>0.000000</td>\n",
              "      <td>0.000000</td>\n",
              "      <td>0.000000</td>\n",
              "      <td>0.000000</td>\n",
              "      <td>0.000000</td>\n",
              "      <td>0.000000</td>\n",
              "      <td>0.000000</td>\n",
              "      <td>0.000000</td>\n",
              "      <td>0.000000</td>\n",
              "      <td>0.000000</td>\n",
              "      <td>0.000000</td>\n",
              "      <td>0.000000</td>\n",
              "      <td>0.000000</td>\n",
              "      <td>0.000000</td>\n",
              "      <td>0.000000</td>\n",
              "      <td>0.000000</td>\n",
              "      <td>0.000000</td>\n",
              "      <td>0.000000</td>\n",
              "      <td>0.068431</td>\n",
              "      <td>0.033137</td>\n",
              "      <td>0.017647</td>\n",
              "      <td>0.319608</td>\n",
              "      <td>0.150196</td>\n",
              "      <td>0.055020</td>\n",
              "      <td>0.321569</td>\n",
              "      <td>0.148627</td>\n",
              "      <td>0.050627</td>\n",
              "      <td>0.270980</td>\n",
              "      <td>0.122314</td>\n",
              "      <td>0.039216</td>\n",
              "      <td>0.201176</td>\n",
              "      <td>0.090314</td>\n",
              "      <td>0.027451</td>\n",
              "      <td>0.170392</td>\n",
              "      <td>0.072549</td>\n",
              "      <td>0.027451</td>\n",
              "      <td>0.145882</td>\n",
              "      <td>...</td>\n",
              "      <td>0.642353</td>\n",
              "      <td>0.528039</td>\n",
              "      <td>0.435882</td>\n",
              "      <td>0.646275</td>\n",
              "      <td>0.528235</td>\n",
              "      <td>0.437922</td>\n",
              "      <td>0.642353</td>\n",
              "      <td>0.520392</td>\n",
              "      <td>0.426314</td>\n",
              "      <td>0.650196</td>\n",
              "      <td>0.528588</td>\n",
              "      <td>0.434118</td>\n",
              "      <td>0.604039</td>\n",
              "      <td>0.489137</td>\n",
              "      <td>0.403137</td>\n",
              "      <td>0.133333</td>\n",
              "      <td>0.107843</td>\n",
              "      <td>0.091961</td>\n",
              "      <td>0.000000</td>\n",
              "      <td>0.000000</td>\n",
              "      <td>0.000000</td>\n",
              "      <td>0.000000</td>\n",
              "      <td>0.000000</td>\n",
              "      <td>0.000000</td>\n",
              "      <td>0.000000</td>\n",
              "      <td>0.000000</td>\n",
              "      <td>0.000000</td>\n",
              "      <td>0.000000</td>\n",
              "      <td>0.000000</td>\n",
              "      <td>0.000000</td>\n",
              "      <td>0.000000</td>\n",
              "      <td>0.000000</td>\n",
              "      <td>0.000000</td>\n",
              "      <td>0.000000</td>\n",
              "      <td>0.000000</td>\n",
              "      <td>0.000000</td>\n",
              "      <td>0.000000</td>\n",
              "      <td>0.000000</td>\n",
              "      <td>0.000000</td>\n",
              "      <td>cat</td>\n",
              "    </tr>\n",
              "    <tr>\n",
              "      <th>1</th>\n",
              "      <td>0.000000</td>\n",
              "      <td>0.000000</td>\n",
              "      <td>0.000000</td>\n",
              "      <td>0.000000</td>\n",
              "      <td>0.000000</td>\n",
              "      <td>0.000000</td>\n",
              "      <td>0.000000</td>\n",
              "      <td>0.000000</td>\n",
              "      <td>0.000000</td>\n",
              "      <td>0.000000</td>\n",
              "      <td>0.000000</td>\n",
              "      <td>0.000000</td>\n",
              "      <td>0.000000</td>\n",
              "      <td>0.000000</td>\n",
              "      <td>0.000000</td>\n",
              "      <td>0.000000</td>\n",
              "      <td>0.000000</td>\n",
              "      <td>0.000000</td>\n",
              "      <td>0.000000</td>\n",
              "      <td>0.000000</td>\n",
              "      <td>0.000000</td>\n",
              "      <td>0.000000</td>\n",
              "      <td>0.000000</td>\n",
              "      <td>0.000000</td>\n",
              "      <td>0.000000</td>\n",
              "      <td>0.000000</td>\n",
              "      <td>0.000000</td>\n",
              "      <td>0.000000</td>\n",
              "      <td>0.000000</td>\n",
              "      <td>0.000000</td>\n",
              "      <td>0.000000</td>\n",
              "      <td>0.000000</td>\n",
              "      <td>0.000000</td>\n",
              "      <td>0.000000</td>\n",
              "      <td>0.000000</td>\n",
              "      <td>0.000000</td>\n",
              "      <td>0.000000</td>\n",
              "      <td>0.000000</td>\n",
              "      <td>0.000000</td>\n",
              "      <td>0.000000</td>\n",
              "      <td>...</td>\n",
              "      <td>0.344873</td>\n",
              "      <td>0.484392</td>\n",
              "      <td>0.650000</td>\n",
              "      <td>0.359671</td>\n",
              "      <td>0.517373</td>\n",
              "      <td>0.686000</td>\n",
              "      <td>0.377373</td>\n",
              "      <td>0.546000</td>\n",
              "      <td>0.717746</td>\n",
              "      <td>0.390275</td>\n",
              "      <td>0.562562</td>\n",
              "      <td>0.731189</td>\n",
              "      <td>0.414510</td>\n",
              "      <td>0.587059</td>\n",
              "      <td>0.751765</td>\n",
              "      <td>0.451882</td>\n",
              "      <td>0.616588</td>\n",
              "      <td>0.772394</td>\n",
              "      <td>0.455804</td>\n",
              "      <td>0.624431</td>\n",
              "      <td>0.781294</td>\n",
              "      <td>0.467569</td>\n",
              "      <td>0.636235</td>\n",
              "      <td>0.793991</td>\n",
              "      <td>0.479333</td>\n",
              "      <td>0.647961</td>\n",
              "      <td>0.804824</td>\n",
              "      <td>0.483255</td>\n",
              "      <td>0.651882</td>\n",
              "      <td>0.808745</td>\n",
              "      <td>0.483255</td>\n",
              "      <td>0.654902</td>\n",
              "      <td>0.808745</td>\n",
              "      <td>0.486933</td>\n",
              "      <td>0.655804</td>\n",
              "      <td>0.815686</td>\n",
              "      <td>0.495020</td>\n",
              "      <td>0.662473</td>\n",
              "      <td>0.824350</td>\n",
              "      <td>cat</td>\n",
              "    </tr>\n",
              "    <tr>\n",
              "      <th>2</th>\n",
              "      <td>0.866667</td>\n",
              "      <td>0.882353</td>\n",
              "      <td>0.905882</td>\n",
              "      <td>0.878431</td>\n",
              "      <td>0.892941</td>\n",
              "      <td>0.917647</td>\n",
              "      <td>0.891961</td>\n",
              "      <td>0.903922</td>\n",
              "      <td>0.929412</td>\n",
              "      <td>0.905882</td>\n",
              "      <td>0.917647</td>\n",
              "      <td>0.945098</td>\n",
              "      <td>0.921569</td>\n",
              "      <td>0.929804</td>\n",
              "      <td>0.953333</td>\n",
              "      <td>0.933333</td>\n",
              "      <td>0.945098</td>\n",
              "      <td>0.964706</td>\n",
              "      <td>0.941176</td>\n",
              "      <td>0.955686</td>\n",
              "      <td>0.968627</td>\n",
              "      <td>0.919608</td>\n",
              "      <td>0.935294</td>\n",
              "      <td>0.933333</td>\n",
              "      <td>0.878431</td>\n",
              "      <td>0.892941</td>\n",
              "      <td>0.889137</td>\n",
              "      <td>0.878431</td>\n",
              "      <td>0.882353</td>\n",
              "      <td>0.890196</td>\n",
              "      <td>0.878431</td>\n",
              "      <td>0.886275</td>\n",
              "      <td>0.890196</td>\n",
              "      <td>0.874510</td>\n",
              "      <td>0.886275</td>\n",
              "      <td>0.882353</td>\n",
              "      <td>0.854706</td>\n",
              "      <td>0.862745</td>\n",
              "      <td>0.847255</td>\n",
              "      <td>0.405765</td>\n",
              "      <td>...</td>\n",
              "      <td>0.111569</td>\n",
              "      <td>0.097843</td>\n",
              "      <td>0.103725</td>\n",
              "      <td>0.078549</td>\n",
              "      <td>0.074627</td>\n",
              "      <td>0.078431</td>\n",
              "      <td>0.171333</td>\n",
              "      <td>0.175294</td>\n",
              "      <td>0.178471</td>\n",
              "      <td>0.169412</td>\n",
              "      <td>0.173294</td>\n",
              "      <td>0.176510</td>\n",
              "      <td>0.163020</td>\n",
              "      <td>0.165490</td>\n",
              "      <td>0.153843</td>\n",
              "      <td>0.146275</td>\n",
              "      <td>0.146471</td>\n",
              "      <td>0.142745</td>\n",
              "      <td>0.078431</td>\n",
              "      <td>0.078431</td>\n",
              "      <td>0.077255</td>\n",
              "      <td>0.078431</td>\n",
              "      <td>0.078431</td>\n",
              "      <td>0.074549</td>\n",
              "      <td>0.086275</td>\n",
              "      <td>0.086275</td>\n",
              "      <td>0.086275</td>\n",
              "      <td>0.098039</td>\n",
              "      <td>0.090196</td>\n",
              "      <td>0.082353</td>\n",
              "      <td>0.099804</td>\n",
              "      <td>0.090196</td>\n",
              "      <td>0.082353</td>\n",
              "      <td>0.097647</td>\n",
              "      <td>0.090196</td>\n",
              "      <td>0.086275</td>\n",
              "      <td>0.093725</td>\n",
              "      <td>0.085882</td>\n",
              "      <td>0.089804</td>\n",
              "      <td>cat</td>\n",
              "    </tr>\n",
              "    <tr>\n",
              "      <th>3</th>\n",
              "      <td>0.758500</td>\n",
              "      <td>0.807520</td>\n",
              "      <td>0.713078</td>\n",
              "      <td>0.767980</td>\n",
              "      <td>0.815686</td>\n",
              "      <td>0.717324</td>\n",
              "      <td>0.776147</td>\n",
              "      <td>0.823529</td>\n",
              "      <td>0.725814</td>\n",
              "      <td>0.772549</td>\n",
              "      <td>0.823206</td>\n",
              "      <td>0.729412</td>\n",
              "      <td>0.742490</td>\n",
              "      <td>0.789549</td>\n",
              "      <td>0.703275</td>\n",
              "      <td>0.547725</td>\n",
              "      <td>0.594784</td>\n",
              "      <td>0.508510</td>\n",
              "      <td>0.417000</td>\n",
              "      <td>0.460137</td>\n",
              "      <td>0.377784</td>\n",
              "      <td>0.428765</td>\n",
              "      <td>0.471902</td>\n",
              "      <td>0.401314</td>\n",
              "      <td>0.615039</td>\n",
              "      <td>0.666343</td>\n",
              "      <td>0.595108</td>\n",
              "      <td>0.704912</td>\n",
              "      <td>0.771902</td>\n",
              "      <td>0.691186</td>\n",
              "      <td>0.736284</td>\n",
              "      <td>0.805235</td>\n",
              "      <td>0.722235</td>\n",
              "      <td>0.761451</td>\n",
              "      <td>0.828118</td>\n",
              "      <td>0.753608</td>\n",
              "      <td>0.796745</td>\n",
              "      <td>0.859167</td>\n",
              "      <td>0.788255</td>\n",
              "      <td>0.823549</td>\n",
              "      <td>...</td>\n",
              "      <td>0.368627</td>\n",
              "      <td>0.339216</td>\n",
              "      <td>0.318961</td>\n",
              "      <td>0.370588</td>\n",
              "      <td>0.344775</td>\n",
              "      <td>0.323206</td>\n",
              "      <td>0.365029</td>\n",
              "      <td>0.335941</td>\n",
              "      <td>0.316333</td>\n",
              "      <td>0.337578</td>\n",
              "      <td>0.305882</td>\n",
              "      <td>0.294118</td>\n",
              "      <td>0.355225</td>\n",
              "      <td>0.321892</td>\n",
              "      <td>0.309804</td>\n",
              "      <td>0.339539</td>\n",
              "      <td>0.302284</td>\n",
              "      <td>0.292480</td>\n",
              "      <td>0.304245</td>\n",
              "      <td>0.266990</td>\n",
              "      <td>0.259471</td>\n",
              "      <td>0.216333</td>\n",
              "      <td>0.184314</td>\n",
              "      <td>0.184637</td>\n",
              "      <td>0.196078</td>\n",
              "      <td>0.164706</td>\n",
              "      <td>0.168627</td>\n",
              "      <td>0.191510</td>\n",
              "      <td>0.166343</td>\n",
              "      <td>0.156863</td>\n",
              "      <td>0.218314</td>\n",
              "      <td>0.191510</td>\n",
              "      <td>0.181382</td>\n",
              "      <td>0.299353</td>\n",
              "      <td>0.256216</td>\n",
              "      <td>0.249020</td>\n",
              "      <td>0.241824</td>\n",
              "      <td>0.201294</td>\n",
              "      <td>0.196725</td>\n",
              "      <td>cat</td>\n",
              "    </tr>\n",
              "    <tr>\n",
              "      <th>4</th>\n",
              "      <td>0.619608</td>\n",
              "      <td>0.588588</td>\n",
              "      <td>0.443490</td>\n",
              "      <td>0.626392</td>\n",
              "      <td>0.595020</td>\n",
              "      <td>0.449922</td>\n",
              "      <td>0.631373</td>\n",
              "      <td>0.600000</td>\n",
              "      <td>0.450980</td>\n",
              "      <td>0.635294</td>\n",
              "      <td>0.603922</td>\n",
              "      <td>0.450980</td>\n",
              "      <td>0.639216</td>\n",
              "      <td>0.607843</td>\n",
              "      <td>0.454902</td>\n",
              "      <td>0.643137</td>\n",
              "      <td>0.615333</td>\n",
              "      <td>0.454902</td>\n",
              "      <td>0.650980</td>\n",
              "      <td>0.615961</td>\n",
              "      <td>0.454902</td>\n",
              "      <td>0.650980</td>\n",
              "      <td>0.615686</td>\n",
              "      <td>0.454902</td>\n",
              "      <td>0.651373</td>\n",
              "      <td>0.619608</td>\n",
              "      <td>0.447059</td>\n",
              "      <td>0.662784</td>\n",
              "      <td>0.631373</td>\n",
              "      <td>0.454902</td>\n",
              "      <td>0.674118</td>\n",
              "      <td>0.639216</td>\n",
              "      <td>0.466667</td>\n",
              "      <td>0.677373</td>\n",
              "      <td>0.643137</td>\n",
              "      <td>0.466667</td>\n",
              "      <td>0.678431</td>\n",
              "      <td>0.643137</td>\n",
              "      <td>0.466667</td>\n",
              "      <td>0.686275</td>\n",
              "      <td>...</td>\n",
              "      <td>0.666667</td>\n",
              "      <td>0.678431</td>\n",
              "      <td>0.643137</td>\n",
              "      <td>0.654902</td>\n",
              "      <td>0.670588</td>\n",
              "      <td>0.639216</td>\n",
              "      <td>0.643098</td>\n",
              "      <td>0.658824</td>\n",
              "      <td>0.623137</td>\n",
              "      <td>0.635294</td>\n",
              "      <td>0.647059</td>\n",
              "      <td>0.608196</td>\n",
              "      <td>0.627176</td>\n",
              "      <td>0.638941</td>\n",
              "      <td>0.599725</td>\n",
              "      <td>0.615686</td>\n",
              "      <td>0.627451</td>\n",
              "      <td>0.586078</td>\n",
              "      <td>0.607843</td>\n",
              "      <td>0.623137</td>\n",
              "      <td>0.571098</td>\n",
              "      <td>0.600000</td>\n",
              "      <td>0.611020</td>\n",
              "      <td>0.560039</td>\n",
              "      <td>0.584314</td>\n",
              "      <td>0.595725</td>\n",
              "      <td>0.545451</td>\n",
              "      <td>0.580000</td>\n",
              "      <td>0.585373</td>\n",
              "      <td>0.530471</td>\n",
              "      <td>0.566471</td>\n",
              "      <td>0.570392</td>\n",
              "      <td>0.515490</td>\n",
              "      <td>0.549020</td>\n",
              "      <td>0.556471</td>\n",
              "      <td>0.497647</td>\n",
              "      <td>0.544706</td>\n",
              "      <td>0.548627</td>\n",
              "      <td>0.489804</td>\n",
              "      <td>cat</td>\n",
              "    </tr>\n",
              "  </tbody>\n",
              "</table>\n",
              "<p>5 rows × 30001 columns</p>\n",
              "</div>"
            ],
            "text/plain": [
              "          0         1         2         3  ...     29997     29998     29999  Target\n",
              "0  0.000000  0.000000  0.000000  0.000000  ...  0.000000  0.000000  0.000000     cat\n",
              "1  0.000000  0.000000  0.000000  0.000000  ...  0.495020  0.662473  0.824350     cat\n",
              "2  0.866667  0.882353  0.905882  0.878431  ...  0.093725  0.085882  0.089804     cat\n",
              "3  0.758500  0.807520  0.713078  0.767980  ...  0.241824  0.201294  0.196725     cat\n",
              "4  0.619608  0.588588  0.443490  0.626392  ...  0.544706  0.548627  0.489804     cat\n",
              "\n",
              "[5 rows x 30001 columns]"
            ]
          },
          "metadata": {
            "tags": []
          },
          "execution_count": 12
        }
      ]
    },
    {
      "cell_type": "code",
      "metadata": {
        "id": "nVwe664myY11",
        "colab_type": "code",
        "colab": {}
      },
      "source": [
        ""
      ],
      "execution_count": null,
      "outputs": []
    },
    {
      "cell_type": "code",
      "metadata": {
        "id": "ciEADWnGyYyn",
        "colab_type": "code",
        "colab": {
          "base_uri": "https://localhost:8080/",
          "height": 683
        },
        "outputId": "d9da8c6f-1bc9-43e3-c5d0-872f0bcde456"
      },
      "source": [
        "x = df.iloc[:,0:29999]\n",
        "y = df.iloc[:,30000]\n",
        "y"
      ],
      "execution_count": null,
      "outputs": [
        {
          "output_type": "execute_result",
          "data": {
            "text/plain": [
              "0     cat\n",
              "1     cat\n",
              "2     cat\n",
              "3     cat\n",
              "4     cat\n",
              "5     cat\n",
              "6     cat\n",
              "7     cat\n",
              "8     cat\n",
              "9     cat\n",
              "10    cat\n",
              "11    cat\n",
              "12    cat\n",
              "13    cat\n",
              "14    cat\n",
              "15    cat\n",
              "16    cat\n",
              "17    cat\n",
              "18    cat\n",
              "19    cat\n",
              "20    dog\n",
              "21    dog\n",
              "22    dog\n",
              "23    dog\n",
              "24    dog\n",
              "25    dog\n",
              "26    dog\n",
              "27    dog\n",
              "28    dog\n",
              "29    dog\n",
              "30    dog\n",
              "31    dog\n",
              "32    dog\n",
              "33    dog\n",
              "34    dog\n",
              "35    dog\n",
              "36    dog\n",
              "37    dog\n",
              "38    dog\n",
              "39    dog\n",
              "Name: Target, dtype: object"
            ]
          },
          "metadata": {
            "tags": []
          },
          "execution_count": 101
        }
      ]
    },
    {
      "cell_type": "code",
      "metadata": {
        "id": "N24CoUOeDAJH",
        "colab_type": "code",
        "colab": {}
      },
      "source": [
        "from sklearn.model_selection import train_test_split\n",
        "x_train,x_test,y_train,y_test = train_test_split(x,y,random_state=0)"
      ],
      "execution_count": null,
      "outputs": []
    },
    {
      "cell_type": "code",
      "metadata": {
        "id": "53doDFvzDAW6",
        "colab_type": "code",
        "colab": {
          "base_uri": "https://localhost:8080/",
          "height": 33
        },
        "outputId": "bf9fd0cd-e903-4e62-e2b3-54e0dc9e5568"
      },
      "source": [
        "x_train.shape"
      ],
      "execution_count": null,
      "outputs": [
        {
          "output_type": "execute_result",
          "data": {
            "text/plain": [
              "(30, 29999)"
            ]
          },
          "metadata": {
            "tags": []
          },
          "execution_count": 15
        }
      ]
    },
    {
      "cell_type": "code",
      "metadata": {
        "id": "0eINUyJ0DAh3",
        "colab_type": "code",
        "colab": {
          "base_uri": "https://localhost:8080/",
          "height": 33
        },
        "outputId": "4b1fce73-674f-43f4-aee2-d5a97c6a725c"
      },
      "source": [
        "x_test.shape"
      ],
      "execution_count": null,
      "outputs": [
        {
          "output_type": "execute_result",
          "data": {
            "text/plain": [
              "(10, 29999)"
            ]
          },
          "metadata": {
            "tags": []
          },
          "execution_count": 16
        }
      ]
    },
    {
      "cell_type": "code",
      "metadata": {
        "id": "f3r3E8FFyxcb",
        "colab_type": "code",
        "colab": {
          "base_uri": "https://localhost:8080/",
          "height": 50
        },
        "outputId": "ddeb58cd-31ae-488b-8f27-4e35d75e3862"
      },
      "source": [
        "import numpy as np\n",
        "z = np.arange(1,24)\n",
        "z"
      ],
      "execution_count": null,
      "outputs": [
        {
          "output_type": "execute_result",
          "data": {
            "text/plain": [
              "array([ 1,  2,  3,  4,  5,  6,  7,  8,  9, 10, 11, 12, 13, 14, 15, 16, 17,\n",
              "       18, 19, 20, 21, 22, 23])"
            ]
          },
          "metadata": {
            "tags": []
          },
          "execution_count": 17
        }
      ]
    },
    {
      "cell_type": "code",
      "metadata": {
        "id": "9nkt5MoIyxZT",
        "colab_type": "code",
        "colab": {
          "base_uri": "https://localhost:8080/",
          "height": 196
        },
        "outputId": "beb7d13a-7a59-4ebb-b6b5-14c1191f7e4a"
      },
      "source": [
        "from sklearn.model_selection import GridSearchCV\n",
        "from sklearn.neighbors import KNeighborsClassifier\n",
        "param = {'n_neighbors':z}\n",
        "model = KNeighborsClassifier()\n",
        "model_grid = GridSearchCV(model,param)\n",
        "model_grid.fit(x_train,y_train)"
      ],
      "execution_count": null,
      "outputs": [
        {
          "output_type": "execute_result",
          "data": {
            "text/plain": [
              "GridSearchCV(cv=None, error_score=nan,\n",
              "             estimator=KNeighborsClassifier(algorithm='auto', leaf_size=30,\n",
              "                                            metric='minkowski',\n",
              "                                            metric_params=None, n_jobs=None,\n",
              "                                            n_neighbors=5, p=2,\n",
              "                                            weights='uniform'),\n",
              "             iid='deprecated', n_jobs=None,\n",
              "             param_grid={'n_neighbors': array([ 1,  2,  3,  4,  5,  6,  7,  8,  9, 10, 11, 12, 13, 14, 15, 16, 17,\n",
              "       18, 19, 20, 21, 22, 23])},\n",
              "             pre_dispatch='2*n_jobs', refit=True, return_train_score=False,\n",
              "             scoring=None, verbose=0)"
            ]
          },
          "metadata": {
            "tags": []
          },
          "execution_count": 20
        }
      ]
    },
    {
      "cell_type": "code",
      "metadata": {
        "id": "UiAIxJDAzhRJ",
        "colab_type": "code",
        "colab": {
          "base_uri": "https://localhost:8080/",
          "height": 33
        },
        "outputId": "6aa7227e-c2ea-4b6b-d60f-24e458af1301"
      },
      "source": [
        "model_grid.best_params_"
      ],
      "execution_count": null,
      "outputs": [
        {
          "output_type": "execute_result",
          "data": {
            "text/plain": [
              "{'n_neighbors': 11}"
            ]
          },
          "metadata": {
            "tags": []
          },
          "execution_count": 21
        }
      ]
    },
    {
      "cell_type": "code",
      "metadata": {
        "id": "0e1Xhh8mDQCn",
        "colab_type": "code",
        "colab": {
          "base_uri": "https://localhost:8080/",
          "height": 66
        },
        "outputId": "4058ad41-c4d1-4412-869d-04dbbebf45a2"
      },
      "source": [
        "\n",
        "model = KNeighborsClassifier(n_neighbors=11)\n",
        "model.fit(x_train,y_train)"
      ],
      "execution_count": null,
      "outputs": [
        {
          "output_type": "execute_result",
          "data": {
            "text/plain": [
              "KNeighborsClassifier(algorithm='auto', leaf_size=30, metric='minkowski',\n",
              "                     metric_params=None, n_jobs=None, n_neighbors=11, p=2,\n",
              "                     weights='uniform')"
            ]
          },
          "metadata": {
            "tags": []
          },
          "execution_count": 22
        }
      ]
    },
    {
      "cell_type": "code",
      "metadata": {
        "id": "mEyJSyHODQLD",
        "colab_type": "code",
        "colab": {
          "base_uri": "https://localhost:8080/",
          "height": 50
        },
        "outputId": "8aaa934c-4393-4e2e-a0e5-d81ca5c81ebe"
      },
      "source": [
        "y_pred = model.predict(x_test)\n",
        "y_pred"
      ],
      "execution_count": null,
      "outputs": [
        {
          "output_type": "execute_result",
          "data": {
            "text/plain": [
              "array(['dog', 'dog', 'dog', 'dog', 'dog', 'dog', 'dog', 'cat', 'cat',\n",
              "       'cat'], dtype=object)"
            ]
          },
          "metadata": {
            "tags": []
          },
          "execution_count": 23
        }
      ]
    },
    {
      "cell_type": "code",
      "metadata": {
        "id": "PUnUFyYPDQJR",
        "colab_type": "code",
        "colab": {
          "base_uri": "https://localhost:8080/",
          "height": 196
        },
        "outputId": "cf3f8f9e-c45b-41be-f70a-b708c28b2fae"
      },
      "source": [
        "y_test"
      ],
      "execution_count": null,
      "outputs": [
        {
          "output_type": "execute_result",
          "data": {
            "text/plain": [
              "22    dog\n",
              "20    dog\n",
              "25    dog\n",
              "4     cat\n",
              "10    cat\n",
              "15    cat\n",
              "28    dog\n",
              "11    cat\n",
              "18    cat\n",
              "29    dog\n",
              "Name: Target, dtype: object"
            ]
          },
          "metadata": {
            "tags": []
          },
          "execution_count": 24
        }
      ]
    },
    {
      "cell_type": "code",
      "metadata": {
        "id": "VwafNlmDDQAh",
        "colab_type": "code",
        "colab": {
          "base_uri": "https://localhost:8080/",
          "height": 33
        },
        "outputId": "f5e7e240-7788-4bbd-a4ee-32ab02c69dac"
      },
      "source": [
        "from sklearn.metrics import accuracy_score,confusion_matrix\n",
        "accuracy_score(y_pred,y_test)"
      ],
      "execution_count": null,
      "outputs": [
        {
          "output_type": "execute_result",
          "data": {
            "text/plain": [
              "0.6"
            ]
          },
          "metadata": {
            "tags": []
          },
          "execution_count": 25
        }
      ]
    },
    {
      "cell_type": "code",
      "metadata": {
        "id": "AG6HXttkDrLa",
        "colab_type": "code",
        "colab": {
          "base_uri": "https://localhost:8080/",
          "height": 50
        },
        "outputId": "c74ff1b6-51ce-448f-edd7-1890dc0ac183"
      },
      "source": [
        "confusion_matrix(y_pred,y_test)"
      ],
      "execution_count": null,
      "outputs": [
        {
          "output_type": "execute_result",
          "data": {
            "text/plain": [
              "array([[2, 1],\n",
              "       [3, 4]])"
            ]
          },
          "metadata": {
            "tags": []
          },
          "execution_count": 26
        }
      ]
    },
    {
      "cell_type": "code",
      "metadata": {
        "id": "KpS3GeuBDrS2",
        "colab_type": "code",
        "colab": {}
      },
      "source": [
        "from sklearn.preprocessing import MinMaxScaler\n",
        "norm = MinMaxScaler()\n",
        "x_train = norm.fit_transform(x_train)\n",
        "x_test = norm.transform(x_test)\n",
        "\n"
      ],
      "execution_count": null,
      "outputs": []
    },
    {
      "cell_type": "code",
      "metadata": {
        "id": "dsigwjc7DrQq",
        "colab_type": "code",
        "colab": {
          "base_uri": "https://localhost:8080/",
          "height": 228
        },
        "outputId": "f030c78f-13e2-425c-e710-11a7a19f04f5"
      },
      "source": [
        "x_train"
      ],
      "execution_count": null,
      "outputs": [
        {
          "output_type": "execute_result",
          "data": {
            "text/plain": [
              "array([[0.        , 0.        , 0.        , ..., 0.        , 0.        ,\n",
              "        0.        ],\n",
              "       [0.        , 0.        , 0.        , ..., 0.        , 0.        ,\n",
              "        0.        ],\n",
              "       [0.77167087, 0.75333333, 0.71713147, ..., 0.03984064, 0.20905252,\n",
              "        0.1372549 ],\n",
              "       ...,\n",
              "       [0.15964639, 0.12192157, 0.11952191, ..., 0.11434263, 0.23738264,\n",
              "        0.21176471],\n",
              "       [0.77370095, 0.80751961, 0.72444223, ..., 0.25298805, 0.25281866,\n",
              "        0.20129412],\n",
              "       [0.        , 0.        , 0.        , ..., 0.        , 0.        ,\n",
              "        0.        ]])"
            ]
          },
          "metadata": {
            "tags": []
          },
          "execution_count": 84
        }
      ]
    },
    {
      "cell_type": "code",
      "metadata": {
        "id": "f-1_YfPhDrJP",
        "colab_type": "code",
        "colab": {
          "base_uri": "https://localhost:8080/",
          "height": 228
        },
        "outputId": "0f0cce26-2028-4892-d694-22ee3bba58f4"
      },
      "source": [
        "x_test"
      ],
      "execution_count": null,
      "outputs": [
        {
          "output_type": "execute_result",
          "data": {
            "text/plain": [
              "array([[0.21400856, 0.30980392, 0.2749004 , ..., 0.13346614, 0.95322045,\n",
              "        0.68627451],\n",
              "       [0.34401376, 0.35      , 0.18426295, ..., 0.40139442, 0.41511213,\n",
              "        0.36666667],\n",
              "       [0.52606104, 0.54709804, 0.59167331, ..., 0.20115538, 0.11684638,\n",
              "        0.25390196],\n",
              "       ...,\n",
              "       [0.68028721, 0.64823529, 0.60583665, ..., 0.4135    , 0.58314747,\n",
              "        0.4675902 ],\n",
              "       [0.88403536, 0.88235294, 0.92031873, ..., 0.0876494 , 0.09798696,\n",
              "        0.08588235],\n",
              "       [0.8400336 , 0.91764706, 1.00796813, ..., 0.22270916, 0.23373375,\n",
              "        0.21647059]])"
            ]
          },
          "metadata": {
            "tags": []
          },
          "execution_count": 29
        }
      ]
    },
    {
      "cell_type": "code",
      "metadata": {
        "id": "1QAypTZKEA2W",
        "colab_type": "code",
        "colab": {
          "base_uri": "https://localhost:8080/",
          "height": 66
        },
        "outputId": "738438a0-dab3-488d-e4c7-9df55114a994"
      },
      "source": [
        "model = KNeighborsClassifier(n_neighbors=23)\n",
        "model.fit(x_train,y_train)"
      ],
      "execution_count": null,
      "outputs": [
        {
          "output_type": "execute_result",
          "data": {
            "text/plain": [
              "KNeighborsClassifier(algorithm='auto', leaf_size=30, metric='minkowski',\n",
              "                     metric_params=None, n_jobs=None, n_neighbors=23, p=2,\n",
              "                     weights='uniform')"
            ]
          },
          "metadata": {
            "tags": []
          },
          "execution_count": 30
        }
      ]
    },
    {
      "cell_type": "code",
      "metadata": {
        "id": "fLYKEURrEA9E",
        "colab_type": "code",
        "colab": {
          "base_uri": "https://localhost:8080/",
          "height": 50
        },
        "outputId": "fdda20e2-ca6b-4cfd-e577-442163922e3c"
      },
      "source": [
        "y_pred = model.predict(x_test)\n",
        "y_pred"
      ],
      "execution_count": null,
      "outputs": [
        {
          "output_type": "execute_result",
          "data": {
            "text/plain": [
              "array(['dog', 'cat', 'cat', 'cat', 'cat', 'cat', 'dog', 'cat', 'cat',\n",
              "       'dog'], dtype=object)"
            ]
          },
          "metadata": {
            "tags": []
          },
          "execution_count": 31
        }
      ]
    },
    {
      "cell_type": "code",
      "metadata": {
        "id": "c-sXx_1NEBCk",
        "colab_type": "code",
        "colab": {
          "base_uri": "https://localhost:8080/",
          "height": 196
        },
        "outputId": "5ce1a307-fc45-4cfe-bde4-0d6a392ed762"
      },
      "source": [
        "y_test\n"
      ],
      "execution_count": null,
      "outputs": [
        {
          "output_type": "execute_result",
          "data": {
            "text/plain": [
              "22    dog\n",
              "20    dog\n",
              "25    dog\n",
              "4     cat\n",
              "10    cat\n",
              "15    cat\n",
              "28    dog\n",
              "11    cat\n",
              "18    cat\n",
              "29    dog\n",
              "Name: Target, dtype: object"
            ]
          },
          "metadata": {
            "tags": []
          },
          "execution_count": 32
        }
      ]
    },
    {
      "cell_type": "code",
      "metadata": {
        "id": "FzNSgM9MEA7Q",
        "colab_type": "code",
        "colab": {
          "base_uri": "https://localhost:8080/",
          "height": 33
        },
        "outputId": "024d0b40-8abc-4aef-cb75-94d70e9f5efc"
      },
      "source": [
        "from sklearn.metrics import accuracy_score,confusion_matrix\n",
        "accuracy_score(y_pred,y_test)"
      ],
      "execution_count": null,
      "outputs": [
        {
          "output_type": "execute_result",
          "data": {
            "text/plain": [
              "0.8"
            ]
          },
          "metadata": {
            "tags": []
          },
          "execution_count": 33
        }
      ]
    },
    {
      "cell_type": "code",
      "metadata": {
        "id": "PoU9cUTrEA0H",
        "colab_type": "code",
        "colab": {
          "base_uri": "https://localhost:8080/",
          "height": 50
        },
        "outputId": "0dbcac3b-f66c-4397-8193-8ba5e6aeefe1"
      },
      "source": [
        "confusion_matrix(y_pred,y_test)"
      ],
      "execution_count": null,
      "outputs": [
        {
          "output_type": "execute_result",
          "data": {
            "text/plain": [
              "array([[5, 2],\n",
              "       [0, 3]])"
            ]
          },
          "metadata": {
            "tags": []
          },
          "execution_count": 34
        }
      ]
    },
    {
      "cell_type": "code",
      "metadata": {
        "id": "HWuov5Yk3db4",
        "colab_type": "code",
        "colab": {
          "base_uri": "https://localhost:8080/",
          "height": 256
        },
        "outputId": "1778a2ae-91aa-4045-b72e-e10c6668593e"
      },
      "source": [
        "from skimage.io import imread\n",
        "import matplotlib.pyplot as plt\n",
        "test_image = imread('https://static.nationalgeographic.co.uk/files/styles/image_3200/public/01-cat-names-nationalgeographic_1525054.jpg?w=1600&h=900')\n",
        "plt.imshow(test_image)"
      ],
      "execution_count": null,
      "outputs": [
        {
          "output_type": "execute_result",
          "data": {
            "text/plain": [
              "<matplotlib.image.AxesImage at 0x7fdeed22dac8>"
            ]
          },
          "metadata": {
            "tags": []
          },
          "execution_count": 35
        },
        {
          "output_type": "display_data",
          "data": {
            "image/png": "[encoded data removed]",
            "text/plain": [
              "<Figure size 432x288 with 1 Axes>"
            ]
          },
          "metadata": {
            "tags": [],
            "needs_background": "light"
          }
        }
      ]
    },
    {
      "cell_type": "code",
      "metadata": {
        "id": "aUmhFpMK3dYZ",
        "colab_type": "code",
        "colab": {}
      },
      "source": [
        "import os\n",
        "from skimage.io import imread\n",
        "from skimage.transform import resize\n",
        "\n",
        "\n",
        " "
      ],
      "execution_count": null,
      "outputs": []
    },
    {
      "cell_type": "code",
      "metadata": {
        "id": "F45_GMcLwB9p",
        "colab_type": "code",
        "colab": {}
      },
      "source": [
        " img_resized = resize(test_image,(64,64,3)) \n",
        " image_2d = img_resized.flatten()"
      ],
      "execution_count": null,
      "outputs": []
    },
    {
      "cell_type": "code",
      "metadata": {
        "id": "icFXeyuRY27w",
        "colab_type": "code",
        "colab": {}
      },
      "source": [
        "flattened_image = img_resized.flatten()\n",
        " img_resized = np.array(img_resized)\n",
        " image = img_resized.reshape(img_resized[0] * img_resized[1],1) \n",
        " model.predict(image)"
      ],
      "execution_count": null,
      "outputs": []
    }
  ]
}